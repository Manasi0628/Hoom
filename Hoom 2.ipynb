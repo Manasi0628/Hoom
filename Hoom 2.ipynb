{
 "cells": [
  {
   "cell_type": "code",
   "execution_count": 1,
   "id": "99395a8e",
   "metadata": {},
   "outputs": [],
   "source": [
    "import pandas as pd\n",
    "import numpy as np\n",
    "import matplotlib.pyplot as plt\n",
    "import seaborn as sns\n",
    "from sklearn.model_selection import train_test_split\n",
    "from sklearn.linear_model import LinearRegression\n",
    "from sklearn import metrics\n",
    "from sklearn.metrics import accuracy_score,r2_score,mean_squared_error\n",
    "from sklearn.preprocessing import StandardScaler"
   ]
  },
  {
   "cell_type": "code",
   "execution_count": 2,
   "id": "51124b8e",
   "metadata": {},
   "outputs": [
    {
     "data": {
      "text/html": [
       "<div>\n",
       "<style scoped>\n",
       "    .dataframe tbody tr th:only-of-type {\n",
       "        vertical-align: middle;\n",
       "    }\n",
       "\n",
       "    .dataframe tbody tr th {\n",
       "        vertical-align: top;\n",
       "    }\n",
       "\n",
       "    .dataframe thead th {\n",
       "        text-align: right;\n",
       "    }\n",
       "</style>\n",
       "<table border=\"1\" class=\"dataframe\">\n",
       "  <thead>\n",
       "    <tr style=\"text-align: right;\">\n",
       "      <th></th>\n",
       "      <th>DATE</th>\n",
       "      <th>DelinquencyRate</th>\n",
       "      <th>GDPC1</th>\n",
       "      <th>Wage</th>\n",
       "      <th>DFF</th>\n",
       "      <th>UNRATE</th>\n",
       "      <th>new</th>\n",
       "      <th>Homes_Sold</th>\n",
       "      <th>Prices</th>\n",
       "    </tr>\n",
       "  </thead>\n",
       "  <tbody>\n",
       "    <tr>\n",
       "      <th>0</th>\n",
       "      <td>2000-09-30</td>\n",
       "      <td>2.09</td>\n",
       "      <td>13183.890</td>\n",
       "      <td>611.0</td>\n",
       "      <td>6.519457</td>\n",
       "      <td>4.000000</td>\n",
       "      <td>4.166667</td>\n",
       "      <td>301.666667</td>\n",
       "      <td>105.786000</td>\n",
       "    </tr>\n",
       "    <tr>\n",
       "      <th>1</th>\n",
       "      <td>2000-12-31</td>\n",
       "      <td>2.23</td>\n",
       "      <td>13262.250</td>\n",
       "      <td>614.0</td>\n",
       "      <td>6.474891</td>\n",
       "      <td>3.900000</td>\n",
       "      <td>3.933333</td>\n",
       "      <td>301.333333</td>\n",
       "      <td>108.274667</td>\n",
       "    </tr>\n",
       "    <tr>\n",
       "      <th>2</th>\n",
       "      <td>2001-03-31</td>\n",
       "      <td>2.34</td>\n",
       "      <td>13219.251</td>\n",
       "      <td>620.0</td>\n",
       "      <td>5.597000</td>\n",
       "      <td>4.233333</td>\n",
       "      <td>3.766667</td>\n",
       "      <td>294.666667</td>\n",
       "      <td>110.484667</td>\n",
       "    </tr>\n",
       "    <tr>\n",
       "      <th>3</th>\n",
       "      <td>2001-06-30</td>\n",
       "      <td>2.41</td>\n",
       "      <td>13301.394</td>\n",
       "      <td>624.0</td>\n",
       "      <td>4.326703</td>\n",
       "      <td>4.400000</td>\n",
       "      <td>4.033333</td>\n",
       "      <td>296.666667</td>\n",
       "      <td>112.203333</td>\n",
       "    </tr>\n",
       "    <tr>\n",
       "      <th>4</th>\n",
       "      <td>2001-09-30</td>\n",
       "      <td>2.19</td>\n",
       "      <td>13248.142</td>\n",
       "      <td>636.0</td>\n",
       "      <td>3.501522</td>\n",
       "      <td>4.833333</td>\n",
       "      <td>4.333333</td>\n",
       "      <td>307.666667</td>\n",
       "      <td>114.156000</td>\n",
       "    </tr>\n",
       "    <tr>\n",
       "      <th>...</th>\n",
       "      <td>...</td>\n",
       "      <td>...</td>\n",
       "      <td>...</td>\n",
       "      <td>...</td>\n",
       "      <td>...</td>\n",
       "      <td>...</td>\n",
       "      <td>...</td>\n",
       "      <td>...</td>\n",
       "      <td>...</td>\n",
       "    </tr>\n",
       "    <tr>\n",
       "      <th>83</th>\n",
       "      <td>2021-06-30</td>\n",
       "      <td>2.48</td>\n",
       "      <td>19368.310</td>\n",
       "      <td>1048.0</td>\n",
       "      <td>0.068242</td>\n",
       "      <td>5.900000</td>\n",
       "      <td>5.300000</td>\n",
       "      <td>331.000000</td>\n",
       "      <td>254.633000</td>\n",
       "    </tr>\n",
       "    <tr>\n",
       "      <th>84</th>\n",
       "      <td>2021-09-30</td>\n",
       "      <td>2.31</td>\n",
       "      <td>19478.893</td>\n",
       "      <td>1068.0</td>\n",
       "      <td>0.090000</td>\n",
       "      <td>5.100000</td>\n",
       "      <td>6.200000</td>\n",
       "      <td>370.333333</td>\n",
       "      <td>266.878333</td>\n",
       "    </tr>\n",
       "    <tr>\n",
       "      <th>85</th>\n",
       "      <td>2021-12-31</td>\n",
       "      <td>2.28</td>\n",
       "      <td>19806.290</td>\n",
       "      <td>1069.0</td>\n",
       "      <td>0.079457</td>\n",
       "      <td>4.233333</td>\n",
       "      <td>6.233333</td>\n",
       "      <td>388.666667</td>\n",
       "      <td>276.591000</td>\n",
       "    </tr>\n",
       "    <tr>\n",
       "      <th>86</th>\n",
       "      <td>2022-03-31</td>\n",
       "      <td>2.09</td>\n",
       "      <td>19727.918</td>\n",
       "      <td>1100.0</td>\n",
       "      <td>0.121444</td>\n",
       "      <td>3.800000</td>\n",
       "      <td>6.233333</td>\n",
       "      <td>400.333333</td>\n",
       "      <td>290.544667</td>\n",
       "    </tr>\n",
       "    <tr>\n",
       "      <th>87</th>\n",
       "      <td>2022-06-30</td>\n",
       "      <td>1.96</td>\n",
       "      <td>19699.465</td>\n",
       "      <td>1107.0</td>\n",
       "      <td>0.330000</td>\n",
       "      <td>3.600000</td>\n",
       "      <td>8.400000</td>\n",
       "      <td>437.000000</td>\n",
       "      <td>303.267500</td>\n",
       "    </tr>\n",
       "  </tbody>\n",
       "</table>\n",
       "<p>88 rows × 9 columns</p>\n",
       "</div>"
      ],
      "text/plain": [
       "          DATE  DelinquencyRate      GDPC1    Wage       DFF    UNRATE  \\\n",
       "0   2000-09-30             2.09  13183.890   611.0  6.519457  4.000000   \n",
       "1   2000-12-31             2.23  13262.250   614.0  6.474891  3.900000   \n",
       "2   2001-03-31             2.34  13219.251   620.0  5.597000  4.233333   \n",
       "3   2001-06-30             2.41  13301.394   624.0  4.326703  4.400000   \n",
       "4   2001-09-30             2.19  13248.142   636.0  3.501522  4.833333   \n",
       "..         ...              ...        ...     ...       ...       ...   \n",
       "83  2021-06-30             2.48  19368.310  1048.0  0.068242  5.900000   \n",
       "84  2021-09-30             2.31  19478.893  1068.0  0.090000  5.100000   \n",
       "85  2021-12-31             2.28  19806.290  1069.0  0.079457  4.233333   \n",
       "86  2022-03-31             2.09  19727.918  1100.0  0.121444  3.800000   \n",
       "87  2022-06-30             1.96  19699.465  1107.0  0.330000  3.600000   \n",
       "\n",
       "         new  Homes_Sold      Prices  \n",
       "0   4.166667  301.666667  105.786000  \n",
       "1   3.933333  301.333333  108.274667  \n",
       "2   3.766667  294.666667  110.484667  \n",
       "3   4.033333  296.666667  112.203333  \n",
       "4   4.333333  307.666667  114.156000  \n",
       "..       ...         ...         ...  \n",
       "83  5.300000  331.000000  254.633000  \n",
       "84  6.200000  370.333333  266.878333  \n",
       "85  6.233333  388.666667  276.591000  \n",
       "86  6.233333  400.333333  290.544667  \n",
       "87  8.400000  437.000000  303.267500  \n",
       "\n",
       "[88 rows x 9 columns]"
      ]
     },
     "execution_count": 2,
     "metadata": {},
     "output_type": "execute_result"
    }
   ],
   "source": [
    "df = pd.read_csv('df.csv')\n",
    "df"
   ]
  },
  {
   "cell_type": "code",
   "execution_count": 4,
   "id": "c6547f3d",
   "metadata": {},
   "outputs": [],
   "source": [
    "X = df.drop(['DATE', 'Prices'], axis = 1)\n",
    "y = df['Prices']"
   ]
  },
  {
   "cell_type": "code",
   "execution_count": 5,
   "id": "3af79332",
   "metadata": {},
   "outputs": [],
   "source": [
    "scaler = StandardScaler()"
   ]
  },
  {
   "cell_type": "code",
   "execution_count": 6,
   "id": "4a1d16ac",
   "metadata": {},
   "outputs": [],
   "source": [
    "x = scaler.fit_transform(X)"
   ]
  },
  {
   "cell_type": "code",
   "execution_count": 7,
   "id": "57e22ad8",
   "metadata": {},
   "outputs": [],
   "source": [
    "X_train, X_test, y_train, y_test = train_test_split(x, y, test_size=0.33, shuffle= False)"
   ]
  },
  {
   "cell_type": "code",
   "execution_count": 8,
   "id": "688d3550",
   "metadata": {},
   "outputs": [],
   "source": [
    "model = LinearRegression()"
   ]
  },
  {
   "cell_type": "code",
   "execution_count": 9,
   "id": "77f4dd6f",
   "metadata": {},
   "outputs": [
    {
     "data": {
      "text/plain": [
       "LinearRegression()"
      ]
     },
     "execution_count": 9,
     "metadata": {},
     "output_type": "execute_result"
    }
   ],
   "source": [
    "model.fit(X_train, y_train)"
   ]
  },
  {
   "cell_type": "code",
   "execution_count": 10,
   "id": "cc80591b",
   "metadata": {},
   "outputs": [],
   "source": [
    "preds = model.predict(X_test)"
   ]
  },
  {
   "cell_type": "code",
   "execution_count": 50,
   "id": "18c2da77",
   "metadata": {},
   "outputs": [
    {
     "name": "stdout",
     "output_type": "stream",
     "text": [
      "MSE =  224.81351111013427\n"
     ]
    }
   ],
   "source": [
    "print('MSE = ',mean_squared_error(preds,y_test))"
   ]
  },
  {
   "cell_type": "code",
   "execution_count": 52,
   "id": "540c0e78",
   "metadata": {},
   "outputs": [
    {
     "name": "stdout",
     "output_type": "stream",
     "text": [
      "Training Accuracy =  0.9822847373595571\n"
     ]
    }
   ],
   "source": [
    "print(\"Training Accuracy = \", model.score(X_train,y_train))"
   ]
  },
  {
   "cell_type": "code",
   "execution_count": 53,
   "id": "11252392",
   "metadata": {},
   "outputs": [
    {
     "name": "stdout",
     "output_type": "stream",
     "text": [
      "Test Accuracy =  0.8196908416186084\n"
     ]
    }
   ],
   "source": [
    "print(\"Test Accuracy = \",model.score(X_test,y_test))"
   ]
  },
  {
   "cell_type": "code",
   "execution_count": 36,
   "id": "423dcc8d",
   "metadata": {},
   "outputs": [],
   "source": [
    "dff = pd.DataFrame(data = y_test, columns= ['Prices'] )"
   ]
  },
  {
   "cell_type": "code",
   "execution_count": 37,
   "id": "66dd1843",
   "metadata": {},
   "outputs": [
    {
     "data": {
      "text/html": [
       "<div>\n",
       "<style scoped>\n",
       "    .dataframe tbody tr th:only-of-type {\n",
       "        vertical-align: middle;\n",
       "    }\n",
       "\n",
       "    .dataframe tbody tr th {\n",
       "        vertical-align: top;\n",
       "    }\n",
       "\n",
       "    .dataframe thead th {\n",
       "        text-align: right;\n",
       "    }\n",
       "</style>\n",
       "<table border=\"1\" class=\"dataframe\">\n",
       "  <thead>\n",
       "    <tr style=\"text-align: right;\">\n",
       "      <th></th>\n",
       "      <th>Prices</th>\n",
       "      <th>predicted</th>\n",
       "    </tr>\n",
       "  </thead>\n",
       "  <tbody>\n",
       "    <tr>\n",
       "      <th>58</th>\n",
       "      <td>169.204333</td>\n",
       "      <td>169.282195</td>\n",
       "    </tr>\n",
       "    <tr>\n",
       "      <th>59</th>\n",
       "      <td>170.881000</td>\n",
       "      <td>171.341526</td>\n",
       "    </tr>\n",
       "    <tr>\n",
       "      <th>60</th>\n",
       "      <td>172.973000</td>\n",
       "      <td>172.872925</td>\n",
       "    </tr>\n",
       "    <tr>\n",
       "      <th>61</th>\n",
       "      <td>175.700667</td>\n",
       "      <td>175.788622</td>\n",
       "    </tr>\n",
       "    <tr>\n",
       "      <th>62</th>\n",
       "      <td>177.720667</td>\n",
       "      <td>179.068821</td>\n",
       "    </tr>\n",
       "    <tr>\n",
       "      <th>63</th>\n",
       "      <td>179.439000</td>\n",
       "      <td>181.569342</td>\n",
       "    </tr>\n",
       "    <tr>\n",
       "      <th>64</th>\n",
       "      <td>181.851000</td>\n",
       "      <td>183.823257</td>\n",
       "    </tr>\n",
       "    <tr>\n",
       "      <th>65</th>\n",
       "      <td>184.727000</td>\n",
       "      <td>186.660145</td>\n",
       "    </tr>\n",
       "    <tr>\n",
       "      <th>66</th>\n",
       "      <td>187.379333</td>\n",
       "      <td>190.018725</td>\n",
       "    </tr>\n",
       "    <tr>\n",
       "      <th>67</th>\n",
       "      <td>189.682333</td>\n",
       "      <td>192.716080</td>\n",
       "    </tr>\n",
       "    <tr>\n",
       "      <th>68</th>\n",
       "      <td>192.669333</td>\n",
       "      <td>195.296420</td>\n",
       "    </tr>\n",
       "    <tr>\n",
       "      <th>69</th>\n",
       "      <td>195.896000</td>\n",
       "      <td>198.969703</td>\n",
       "    </tr>\n",
       "    <tr>\n",
       "      <th>70</th>\n",
       "      <td>199.141000</td>\n",
       "      <td>202.610527</td>\n",
       "    </tr>\n",
       "    <tr>\n",
       "      <th>71</th>\n",
       "      <td>201.622333</td>\n",
       "      <td>206.653311</td>\n",
       "    </tr>\n",
       "    <tr>\n",
       "      <th>72</th>\n",
       "      <td>203.721333</td>\n",
       "      <td>209.311012</td>\n",
       "    </tr>\n",
       "    <tr>\n",
       "      <th>73</th>\n",
       "      <td>205.449333</td>\n",
       "      <td>212.948141</td>\n",
       "    </tr>\n",
       "    <tr>\n",
       "      <th>74</th>\n",
       "      <td>206.726667</td>\n",
       "      <td>217.041459</td>\n",
       "    </tr>\n",
       "    <tr>\n",
       "      <th>75</th>\n",
       "      <td>208.489333</td>\n",
       "      <td>218.573028</td>\n",
       "    </tr>\n",
       "    <tr>\n",
       "      <th>76</th>\n",
       "      <td>210.212667</td>\n",
       "      <td>221.041300</td>\n",
       "    </tr>\n",
       "    <tr>\n",
       "      <th>77</th>\n",
       "      <td>212.492667</td>\n",
       "      <td>222.668808</td>\n",
       "    </tr>\n",
       "    <tr>\n",
       "      <th>78</th>\n",
       "      <td>215.547000</td>\n",
       "      <td>221.043546</td>\n",
       "    </tr>\n",
       "    <tr>\n",
       "      <th>79</th>\n",
       "      <td>217.764000</td>\n",
       "      <td>228.665151</td>\n",
       "    </tr>\n",
       "    <tr>\n",
       "      <th>80</th>\n",
       "      <td>222.678000</td>\n",
       "      <td>232.850818</td>\n",
       "    </tr>\n",
       "    <tr>\n",
       "      <th>81</th>\n",
       "      <td>232.592000</td>\n",
       "      <td>227.373747</td>\n",
       "    </tr>\n",
       "    <tr>\n",
       "      <th>82</th>\n",
       "      <td>242.141667</td>\n",
       "      <td>232.547489</td>\n",
       "    </tr>\n",
       "    <tr>\n",
       "      <th>83</th>\n",
       "      <td>254.633000</td>\n",
       "      <td>239.176461</td>\n",
       "    </tr>\n",
       "    <tr>\n",
       "      <th>84</th>\n",
       "      <td>266.878333</td>\n",
       "      <td>244.158394</td>\n",
       "    </tr>\n",
       "    <tr>\n",
       "      <th>85</th>\n",
       "      <td>276.591000</td>\n",
       "      <td>248.968477</td>\n",
       "    </tr>\n",
       "    <tr>\n",
       "      <th>86</th>\n",
       "      <td>290.544667</td>\n",
       "      <td>250.256649</td>\n",
       "    </tr>\n",
       "    <tr>\n",
       "      <th>87</th>\n",
       "      <td>303.267500</td>\n",
       "      <td>251.975070</td>\n",
       "    </tr>\n",
       "  </tbody>\n",
       "</table>\n",
       "</div>"
      ],
      "text/plain": [
       "        Prices   predicted\n",
       "58  169.204333  169.282195\n",
       "59  170.881000  171.341526\n",
       "60  172.973000  172.872925\n",
       "61  175.700667  175.788622\n",
       "62  177.720667  179.068821\n",
       "63  179.439000  181.569342\n",
       "64  181.851000  183.823257\n",
       "65  184.727000  186.660145\n",
       "66  187.379333  190.018725\n",
       "67  189.682333  192.716080\n",
       "68  192.669333  195.296420\n",
       "69  195.896000  198.969703\n",
       "70  199.141000  202.610527\n",
       "71  201.622333  206.653311\n",
       "72  203.721333  209.311012\n",
       "73  205.449333  212.948141\n",
       "74  206.726667  217.041459\n",
       "75  208.489333  218.573028\n",
       "76  210.212667  221.041300\n",
       "77  212.492667  222.668808\n",
       "78  215.547000  221.043546\n",
       "79  217.764000  228.665151\n",
       "80  222.678000  232.850818\n",
       "81  232.592000  227.373747\n",
       "82  242.141667  232.547489\n",
       "83  254.633000  239.176461\n",
       "84  266.878333  244.158394\n",
       "85  276.591000  248.968477\n",
       "86  290.544667  250.256649\n",
       "87  303.267500  251.975070"
      ]
     },
     "execution_count": 37,
     "metadata": {},
     "output_type": "execute_result"
    }
   ],
   "source": [
    "dff['predicted'] = preds\n",
    "dff"
   ]
  },
  {
   "cell_type": "code",
   "execution_count": 38,
   "id": "6f3438f6",
   "metadata": {},
   "outputs": [
    {
     "data": {
      "text/plain": [
       "<AxesSubplot:>"
      ]
     },
     "execution_count": 38,
     "metadata": {},
     "output_type": "execute_result"
    },
    {
     "data": {
      "text/plain": [
       "<Figure size 1080x1080 with 0 Axes>"
      ]
     },
     "metadata": {},
     "output_type": "display_data"
    },
    {
     "data": {
      "image/png": "[encoded data removed]",
      "text/plain": [
       "<Figure size 432x288 with 1 Axes>"
      ]
     },
     "metadata": {
      "needs_background": "light"
     },
     "output_type": "display_data"
    }
   ],
   "source": [
    "plt.figure(figsize = (15,15))\n",
    "dff.plot()"
   ]
  },
  {
   "cell_type": "code",
   "execution_count": 41,
   "id": "84e7ba8a",
   "metadata": {},
   "outputs": [
    {
     "data": {
      "text/html": [
       "<div>\n",
       "<style scoped>\n",
       "    .dataframe tbody tr th:only-of-type {\n",
       "        vertical-align: middle;\n",
       "    }\n",
       "\n",
       "    .dataframe tbody tr th {\n",
       "        vertical-align: top;\n",
       "    }\n",
       "\n",
       "    .dataframe thead th {\n",
       "        text-align: right;\n",
       "    }\n",
       "</style>\n",
       "<table border=\"1\" class=\"dataframe\">\n",
       "  <thead>\n",
       "    <tr style=\"text-align: right;\">\n",
       "      <th></th>\n",
       "      <th>Features</th>\n",
       "      <th>coeff</th>\n",
       "    </tr>\n",
       "  </thead>\n",
       "  <tbody>\n",
       "    <tr>\n",
       "      <th>1</th>\n",
       "      <td>GDPC1</td>\n",
       "      <td>28.932776</td>\n",
       "    </tr>\n",
       "    <tr>\n",
       "      <th>6</th>\n",
       "      <td>Homes_Sold</td>\n",
       "      <td>16.952996</td>\n",
       "    </tr>\n",
       "    <tr>\n",
       "      <th>2</th>\n",
       "      <td>Wage</td>\n",
       "      <td>8.223555</td>\n",
       "    </tr>\n",
       "    <tr>\n",
       "      <th>4</th>\n",
       "      <td>UNRATE</td>\n",
       "      <td>6.893515</td>\n",
       "    </tr>\n",
       "    <tr>\n",
       "      <th>3</th>\n",
       "      <td>DFF</td>\n",
       "      <td>-0.075275</td>\n",
       "    </tr>\n",
       "    <tr>\n",
       "      <th>5</th>\n",
       "      <td>new</td>\n",
       "      <td>-2.856320</td>\n",
       "    </tr>\n",
       "    <tr>\n",
       "      <th>0</th>\n",
       "      <td>DelinquencyRate</td>\n",
       "      <td>-4.802943</td>\n",
       "    </tr>\n",
       "  </tbody>\n",
       "</table>\n",
       "</div>"
      ],
      "text/plain": [
       "          Features      coeff\n",
       "1            GDPC1  28.932776\n",
       "6       Homes_Sold  16.952996\n",
       "2             Wage   8.223555\n",
       "4           UNRATE   6.893515\n",
       "3              DFF  -0.075275\n",
       "5              new  -2.856320\n",
       "0  DelinquencyRate  -4.802943"
      ]
     },
     "execution_count": 41,
     "metadata": {},
     "output_type": "execute_result"
    }
   ],
   "source": [
    "feature_importance = pd.DataFrame(data = X.columns, columns= ['Features'])\n",
    "feature_importance['coeff'] = model.coef_\n",
    "feature_importance.sort_values('coeff', ascending = False)"
   ]
  },
  {
   "cell_type": "code",
   "execution_count": 49,
   "id": "c967b6cc",
   "metadata": {},
   "outputs": [
    {
     "data": {
      "text/plain": [
       "<AxesSubplot:xlabel='Features', ylabel='coeff'>"
      ]
     },
     "execution_count": 49,
     "metadata": {},
     "output_type": "execute_result"
    },
    {
     "data": {
      "image/png": "[encoded data removed]",
      "text/plain": [
       "<Figure size 720x720 with 1 Axes>"
      ]
     },
     "metadata": {
      "needs_background": "light"
     },
     "output_type": "display_data"
    }
   ],
   "source": [
    "plt.figure(figsize=(10,10))\n",
    "sns.barplot(x='Features',\n",
    "            y=\"coeff\", data=feature_importance,\n",
    "            order=feature_importance.sort_values('coeff', ascending = False).Features)"
   ]
  },
  {
   "cell_type": "code",
   "execution_count": null,
   "id": "8c5c8db5",
   "metadata": {},
   "outputs": [],
   "source": []
  },
  {
   "cell_type": "markdown",
   "id": "c8f5578c",
   "metadata": {},
   "source": [
    "### * Moving on to the Modeling part. Standardizing the data was the first step needed as our data was unevenly distriburted.\n",
    "### * As our y variable was continuous in nature Linear Regression was most suited for this task.\n",
    "### * After modelling our data the Training and Test Accuracy achieved was 98% and 81% respectectively.\n",
    "### * After the whole evaluation of this case we can consider that GDP, Houses Sold and Wages are the most important factors Affecting the House Prices in the US."
   ]
  },
  {
   "cell_type": "code",
   "execution_count": null,
   "id": "e4e749f3",
   "metadata": {},
   "outputs": [],
   "source": []
  }
 ],
 "metadata": {
  "kernelspec": {
   "display_name": "Python 3 (ipykernel)",
   "language": "python",
   "name": "python3"
  },
  "language_info": {
   "codemirror_mode": {
    "name": "ipython",
    "version": 3
   },
   "file_extension": ".py",
   "mimetype": "text/x-python",
   "name": "python",
   "nbconvert_exporter": "python",
   "pygments_lexer": "ipython3",
   "version": "3.8.13"
  }
 },
 "nbformat": 4,
 "nbformat_minor": 5
}
